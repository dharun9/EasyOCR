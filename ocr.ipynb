{
 "cells": [
  {
   "cell_type": "markdown",
   "metadata": {},
   "source": [
    "**Opening an Image**"
   ]
  },
  {
   "cell_type": "code",
   "execution_count": 11,
   "metadata": {},
   "outputs": [],
   "source": [
    "import cv2\n",
    "from matplotlib import pyplot as plt\n",
    "image_file =\"data/page_01.jpg\"\n",
    "img=cv2.imread(image_file)"
   ]
  },
  {
   "cell_type": "code",
   "execution_count": 15,
   "metadata": {},
   "outputs": [],
   "source": [
    "def display(im_path):\n",
    "    dpi=80\n",
    "    im_data = plt.imread(im_path)\n",
    "    height,width,depth= im_data.shape\n",
    "\n",
    "    figsize = width / float(dpi), height / float(dpi)\n",
    "\n",
    "    fig = plt.figure(figsize=figsize)\n",
    "    ax = fig.add_axes([0., 0., 1., 1.])\n",
    "    \n",
    "    ax.axis('off')\n",
    "    \n",
    "    ax.imshow(im_data, cmap='grey')\n",
    "\n",
    "    plt.show()"
   ]
  },
  {
   "cell_type": "code",
   "execution_count": 17,
   "metadata": {},
   "outputs": [
    {
     "name": "stdout",
     "output_type": "stream",
     "text": [
      "\n"
     ]
    }
   ],
   "source": [
    "import pytesseract as tess\n",
    "tess.pytesseract.tesseract_cmd = r'C:\\Users\\Dharun prasanth\\AppData\\Local\\Programs\\Tesseract-OCR\\tesseract.exe'\n",
    "from PIL import Image\n",
    "\n",
    "img = Image.open('data\\page_01.jpg')\n",
    "text = tess.image_to_string(img)\n",
    "\n",
    "print(text)"
   ]
  }
 ],
 "metadata": {
  "kernelspec": {
   "display_name": "Python 3",
   "language": "python",
   "name": "python3"
  },
  "language_info": {
   "codemirror_mode": {
    "name": "ipython",
    "version": 3
   },
   "file_extension": ".py",
   "mimetype": "text/x-python",
   "name": "python",
   "nbconvert_exporter": "python",
   "pygments_lexer": "ipython3",
   "version": "3.10.6"
  }
 },
 "nbformat": 4,
 "nbformat_minor": 2
}
